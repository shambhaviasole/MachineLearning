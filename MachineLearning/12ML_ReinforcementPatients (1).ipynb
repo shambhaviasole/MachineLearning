{
  "nbformat": 4,
  "nbformat_minor": 0,
  "metadata": {
    "colab": {
      "provenance": []
    },
    "kernelspec": {
      "name": "python3",
      "display_name": "Python 3"
    },
    "language_info": {
      "name": "python"
    }
  },
  "cells": [
    {
      "cell_type": "code",
      "execution_count": null,
      "metadata": {
        "id": "SMrdNmU6jAro"
      },
      "outputs": [],
      "source": [
        "import random"
      ]
    },
    {
      "cell_type": "code",
      "source": [
        "states=['young_low','young_high','old_low','old_high']\n",
        "actions=['admit','dont_admit']"
      ],
      "metadata": {
        "id": "s-8qULc6lpa4"
      },
      "execution_count": null,
      "outputs": []
    },
    {
      "cell_type": "code",
      "source": [
        "Q={state:{action: 0 for action in actions} for state in states}\n",
        "print(Q)"
      ],
      "metadata": {
        "colab": {
          "base_uri": "https://localhost:8080/"
        },
        "id": "WweBvbpomGb8",
        "outputId": "55c7b237-2c3b-4c64-cac5-d78f0f0c0401"
      },
      "execution_count": null,
      "outputs": [
        {
          "output_type": "stream",
          "name": "stdout",
          "text": [
            "{'young_low': {'admit': 0, 'dont_admit': 0}, 'young_high': {'admit': 0, 'dont_admit': 0}, 'old_low': {'admit': 0, 'dont_admit': 0}, 'old_high': {'admit': 0, 'dont_admit': 0}}\n"
          ]
        }
      ]
    },
    {
      "cell_type": "code",
      "source": [
        "rewards={\n",
        "    'young_low':{'admit':-1,'dont_admit':2},\n",
        "    'young_high':{'admit':5,'dont_admit':-5},\n",
        "    'old_low':{'admit':0,'dont_admit':1},\n",
        "    'old_high':{'admit':5,'dont_admit':-10}\n",
        "}"
      ],
      "metadata": {
        "id": "gEB2Ouo4miUQ"
      },
      "execution_count": null,
      "outputs": []
    },
    {
      "cell_type": "code",
      "source": [
        "alpha=0.1     # learning rate\n",
        "gamma=0.9     # discount factor\n",
        "epsilon=0.2   # exploration rate\n",
        "episodes=500"
      ],
      "metadata": {
        "id": "K_xBtuf7n78o"
      },
      "execution_count": null,
      "outputs": []
    },
    {
      "cell_type": "code",
      "source": [
        "for i in range(episodes):\n",
        "  state=random.choice(states)\n",
        "\n",
        "  if random.uniform(0,1)<epsilon:\n",
        "    action=random.choice(actions)\n",
        "  else:\n",
        "    action=max(Q[state],key=Q[state].get)\n",
        "\n",
        "  reward=rewards[state][action]\n",
        "  old_value=Q[state][action]\n",
        "  next=max(Q[state].values())\n",
        "\n",
        "  Q[state][action]=(1-alpha)*old_value+alpha*(reward+gamma*next)\n",
        "  #print(Q)"
      ],
      "metadata": {
        "id": "oXU9UuJ-ofov"
      },
      "execution_count": null,
      "outputs": []
    },
    {
      "cell_type": "markdown",
      "source": [
        "**Learned policy - best action per state**"
      ],
      "metadata": {
        "id": "AJysVQAPqaSr"
      }
    },
    {
      "cell_type": "code",
      "source": [
        "for state in states:\n",
        "  best=max(Q[state],key=Q[state].get)\n",
        "  print(f'{state}:{best}')"
      ],
      "metadata": {
        "colab": {
          "base_uri": "https://localhost:8080/"
        },
        "id": "Olnv2zgIqXto",
        "outputId": "28597667-eef3-4905-cf36-3a78bd6777b6"
      },
      "execution_count": null,
      "outputs": [
        {
          "output_type": "stream",
          "name": "stdout",
          "text": [
            "young_low:dont_admit\n",
            "young_high:admit\n",
            "old_low:dont_admit\n",
            "old_high:admit\n"
          ]
        }
      ]
    }
  ]
}